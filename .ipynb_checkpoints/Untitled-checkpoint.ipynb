{
 "cells": [
  {
   "cell_type": "code",
   "execution_count": 2,
   "metadata": {},
   "outputs": [],
   "source": [
    "import numpy as np\n",
    "import pandas as pd\n",
    "from matplotlib.pyplot import figure\n",
    "import matplotlib.pyplot as plt\n",
    "\n",
    "from datetime import datetime"
   ]
  },
  {
   "cell_type": "code",
   "execution_count": 2,
   "metadata": {},
   "outputs": [],
   "source": [
    "a=[1,2,3,4]\n",
    "b=[\"a\",\"b\",\"c\",\"d\"]"
   ]
  },
  {
   "cell_type": "code",
   "execution_count": 3,
   "metadata": {},
   "outputs": [],
   "source": [
    "dic={\"inst\":b,\"cci\":a}"
   ]
  },
  {
   "cell_type": "code",
   "execution_count": 4,
   "metadata": {},
   "outputs": [],
   "source": [
    "indices=[\"aa\",\"bb\",\"cc\",\"dd\"]"
   ]
  },
  {
   "cell_type": "code",
   "execution_count": 5,
   "metadata": {},
   "outputs": [],
   "source": [
    "df=pd.DataFrame(dic,index=indices)"
   ]
  },
  {
   "cell_type": "code",
   "execution_count": 11,
   "metadata": {},
   "outputs": [],
   "source": [
    "df.index.name=\"date\""
   ]
  },
  {
   "cell_type": "code",
   "execution_count": 13,
   "metadata": {},
   "outputs": [
    {
     "data": {
      "text/html": [
       "<div>\n",
       "<style scoped>\n",
       "    .dataframe tbody tr th:only-of-type {\n",
       "        vertical-align: middle;\n",
       "    }\n",
       "\n",
       "    .dataframe tbody tr th {\n",
       "        vertical-align: top;\n",
       "    }\n",
       "\n",
       "    .dataframe thead th {\n",
       "        text-align: right;\n",
       "    }\n",
       "</style>\n",
       "<table border=\"1\" class=\"dataframe\">\n",
       "  <thead>\n",
       "    <tr style=\"text-align: right;\">\n",
       "      <th></th>\n",
       "      <th>inst</th>\n",
       "      <th>cci</th>\n",
       "    </tr>\n",
       "    <tr>\n",
       "      <th>date</th>\n",
       "      <th></th>\n",
       "      <th></th>\n",
       "    </tr>\n",
       "  </thead>\n",
       "  <tbody>\n",
       "    <tr>\n",
       "      <th>aa</th>\n",
       "      <td>a</td>\n",
       "      <td>1</td>\n",
       "    </tr>\n",
       "    <tr>\n",
       "      <th>bb</th>\n",
       "      <td>b</td>\n",
       "      <td>2</td>\n",
       "    </tr>\n",
       "    <tr>\n",
       "      <th>cc</th>\n",
       "      <td>c</td>\n",
       "      <td>3</td>\n",
       "    </tr>\n",
       "    <tr>\n",
       "      <th>dd</th>\n",
       "      <td>d</td>\n",
       "      <td>4</td>\n",
       "    </tr>\n",
       "  </tbody>\n",
       "</table>\n",
       "</div>"
      ],
      "text/plain": [
       "     inst  cci\n",
       "date          \n",
       "aa      a    1\n",
       "bb      b    2\n",
       "cc      c    3\n",
       "dd      d    4"
      ]
     },
     "execution_count": 13,
     "metadata": {},
     "output_type": "execute_result"
    }
   ],
   "source": [
    "df"
   ]
  },
  {
   "cell_type": "code",
   "execution_count": 12,
   "metadata": {},
   "outputs": [],
   "source": [
    "df.to_excel(\"k.xlsx\")"
   ]
  },
  {
   "cell_type": "code",
   "execution_count": 6,
   "metadata": {},
   "outputs": [],
   "source": [
    "top2df=df.head(2)"
   ]
  },
  {
   "cell_type": "code",
   "execution_count": 7,
   "metadata": {},
   "outputs": [
    {
     "data": {
      "text/html": [
       "<div>\n",
       "<style scoped>\n",
       "    .dataframe tbody tr th:only-of-type {\n",
       "        vertical-align: middle;\n",
       "    }\n",
       "\n",
       "    .dataframe tbody tr th {\n",
       "        vertical-align: top;\n",
       "    }\n",
       "\n",
       "    .dataframe thead th {\n",
       "        text-align: right;\n",
       "    }\n",
       "</style>\n",
       "<table border=\"1\" class=\"dataframe\">\n",
       "  <thead>\n",
       "    <tr style=\"text-align: right;\">\n",
       "      <th></th>\n",
       "      <th>inst</th>\n",
       "      <th>cci</th>\n",
       "    </tr>\n",
       "  </thead>\n",
       "  <tbody>\n",
       "    <tr>\n",
       "      <th>aa</th>\n",
       "      <td>a</td>\n",
       "      <td>1</td>\n",
       "    </tr>\n",
       "    <tr>\n",
       "      <th>bb</th>\n",
       "      <td>b</td>\n",
       "      <td>2</td>\n",
       "    </tr>\n",
       "  </tbody>\n",
       "</table>\n",
       "</div>"
      ],
      "text/plain": [
       "   inst  cci\n",
       "aa    a    1\n",
       "bb    b    2"
      ]
     },
     "execution_count": 7,
     "metadata": {},
     "output_type": "execute_result"
    }
   ],
   "source": [
    "top2df"
   ]
  },
  {
   "cell_type": "code",
   "execution_count": 39,
   "metadata": {},
   "outputs": [],
   "source": [
    "Index_label = top2df[(top2df['inst']==\"b\") & (top2df[\"cci\"]==2)].index.tolist()"
   ]
  },
  {
   "cell_type": "code",
   "execution_count": 40,
   "metadata": {},
   "outputs": [
    {
     "data": {
      "text/plain": [
       "['bb']"
      ]
     },
     "execution_count": 40,
     "metadata": {},
     "output_type": "execute_result"
    }
   ],
   "source": [
    "Index_label"
   ]
  },
  {
   "cell_type": "code",
   "execution_count": 6,
   "metadata": {},
   "outputs": [
    {
     "data": {
      "text/plain": [
       "[0.25, 0.5, 0.75, 1.0]"
      ]
     },
     "execution_count": 6,
     "metadata": {},
     "output_type": "execute_result"
    }
   ],
   "source": [
    "(df[\"cci\"].rank()/4).to_list()"
   ]
  },
  {
   "cell_type": "code",
   "execution_count": 7,
   "metadata": {},
   "outputs": [
    {
     "data": {
      "text/html": [
       "<div>\n",
       "<style scoped>\n",
       "    .dataframe tbody tr th:only-of-type {\n",
       "        vertical-align: middle;\n",
       "    }\n",
       "\n",
       "    .dataframe tbody tr th {\n",
       "        vertical-align: top;\n",
       "    }\n",
       "\n",
       "    .dataframe thead th {\n",
       "        text-align: right;\n",
       "    }\n",
       "</style>\n",
       "<table border=\"1\" class=\"dataframe\">\n",
       "  <thead>\n",
       "    <tr style=\"text-align: right;\">\n",
       "      <th></th>\n",
       "      <th>inst</th>\n",
       "      <th>cci</th>\n",
       "    </tr>\n",
       "  </thead>\n",
       "  <tbody>\n",
       "    <tr>\n",
       "      <th>0</th>\n",
       "      <td>a</td>\n",
       "      <td>1</td>\n",
       "    </tr>\n",
       "    <tr>\n",
       "      <th>1</th>\n",
       "      <td>b</td>\n",
       "      <td>2</td>\n",
       "    </tr>\n",
       "    <tr>\n",
       "      <th>2</th>\n",
       "      <td>c</td>\n",
       "      <td>3</td>\n",
       "    </tr>\n",
       "    <tr>\n",
       "      <th>3</th>\n",
       "      <td>d</td>\n",
       "      <td>4</td>\n",
       "    </tr>\n",
       "  </tbody>\n",
       "</table>\n",
       "</div>"
      ],
      "text/plain": [
       "  inst  cci\n",
       "0    a    1\n",
       "1    b    2\n",
       "2    c    3\n",
       "3    d    4"
      ]
     },
     "execution_count": 7,
     "metadata": {},
     "output_type": "execute_result"
    }
   ],
   "source": [
    "df"
   ]
  },
  {
   "cell_type": "code",
   "execution_count": 8,
   "metadata": {},
   "outputs": [],
   "source": [
    "def cci_percentile(df, n=2):\n",
    "    return (df.rank() / (len(df) - n))"
   ]
  },
  {
   "cell_type": "code",
   "execution_count": 9,
   "metadata": {},
   "outputs": [
    {
     "data": {
      "text/plain": [
       "[0.5, 1.0, 1.5, 2.0]"
      ]
     },
     "execution_count": 9,
     "metadata": {},
     "output_type": "execute_result"
    }
   ],
   "source": [
    "cci_percentile(df[\"cci\"]).to_list()"
   ]
  },
  {
   "cell_type": "code",
   "execution_count": null,
   "metadata": {},
   "outputs": [],
   "source": []
  },
  {
   "cell_type": "code",
   "execution_count": 10,
   "metadata": {},
   "outputs": [],
   "source": [
    "df[\"Col\"]=[None,None,None,None]"
   ]
  },
  {
   "cell_type": "code",
   "execution_count": 11,
   "metadata": {},
   "outputs": [
    {
     "data": {
      "text/html": [
       "<div>\n",
       "<style scoped>\n",
       "    .dataframe tbody tr th:only-of-type {\n",
       "        vertical-align: middle;\n",
       "    }\n",
       "\n",
       "    .dataframe tbody tr th {\n",
       "        vertical-align: top;\n",
       "    }\n",
       "\n",
       "    .dataframe thead th {\n",
       "        text-align: right;\n",
       "    }\n",
       "</style>\n",
       "<table border=\"1\" class=\"dataframe\">\n",
       "  <thead>\n",
       "    <tr style=\"text-align: right;\">\n",
       "      <th></th>\n",
       "      <th>inst</th>\n",
       "      <th>cci</th>\n",
       "      <th>Col</th>\n",
       "    </tr>\n",
       "  </thead>\n",
       "  <tbody>\n",
       "    <tr>\n",
       "      <th>0</th>\n",
       "      <td>a</td>\n",
       "      <td>1</td>\n",
       "      <td>None</td>\n",
       "    </tr>\n",
       "    <tr>\n",
       "      <th>1</th>\n",
       "      <td>b</td>\n",
       "      <td>2</td>\n",
       "      <td>None</td>\n",
       "    </tr>\n",
       "    <tr>\n",
       "      <th>2</th>\n",
       "      <td>c</td>\n",
       "      <td>3</td>\n",
       "      <td>None</td>\n",
       "    </tr>\n",
       "    <tr>\n",
       "      <th>3</th>\n",
       "      <td>d</td>\n",
       "      <td>4</td>\n",
       "      <td>None</td>\n",
       "    </tr>\n",
       "  </tbody>\n",
       "</table>\n",
       "</div>"
      ],
      "text/plain": [
       "  inst  cci   Col\n",
       "0    a    1  None\n",
       "1    b    2  None\n",
       "2    c    3  None\n",
       "3    d    4  None"
      ]
     },
     "execution_count": 11,
     "metadata": {},
     "output_type": "execute_result"
    }
   ],
   "source": [
    "df"
   ]
  },
  {
   "cell_type": "code",
   "execution_count": 12,
   "metadata": {},
   "outputs": [],
   "source": [
    "wdf[\"Col\"]=[11,22,3,4]"
   ]
  },
  {
   "cell_type": "code",
   "execution_count": 27,
   "metadata": {},
   "outputs": [
    {
     "data": {
      "image/png": "[encoded data removed]",
      "text/plain": [
       "<Figure size 432x288 with 1 Axes>"
      ]
     },
     "metadata": {
      "needs_background": "light"
     },
     "output_type": "display_data"
    }
   ],
   "source": [
    "import matplotlib.pyplot as plt\n",
    "from scipy.misc import electrocardiogram\n",
    "from scipy.signal import find_peaks\n",
    "#x = electrocardiogram()[200:300]\n",
    "peaks, _= find_peaks(x)\n",
    "troughs, _= find_peaks(-x)\n",
    "# naming the x axis \n",
    "plt.xlabel('DateTime') \n",
    "# naming the y axis \n",
    "plt.ylabel('DF AVG RANK') \n",
    "  \n",
    "# giving a title to my graph \n",
    "plt.title('AUD_CAD Finding Crest and Trough') \n",
    "plt.plot(x)\n",
    "plt.plot(peaks,x[peaks], '^')\n",
    "plt.plot(troughs,x[troughs], 'v')\n",
    "plt.show()"
   ]
  },
  {
   "cell_type": "code",
   "execution_count": 39,
   "metadata": {},
   "outputs": [
    {
     "data": {
      "text/plain": [
       "array([1, 3], dtype=int64)"
      ]
     },
     "execution_count": 39,
     "metadata": {},
     "output_type": "execute_result"
    }
   ],
   "source": [
    "peaks"
   ]
  },
  {
   "cell_type": "code",
   "execution_count": 40,
   "metadata": {},
   "outputs": [
    {
     "data": {
      "text/plain": [
       "array([2, 4], dtype=int64)"
      ]
     },
     "execution_count": 40,
     "metadata": {},
     "output_type": "execute_result"
    }
   ],
   "source": [
    "troughs"
   ]
  },
  {
   "cell_type": "code",
   "execution_count": 16,
   "metadata": {},
   "outputs": [
    {
     "data": {
      "text/plain": [
       "array([ 0.125,  0.16 ,  0.165,  0.17 ,  0.185,  0.22 ,  0.225,  0.235,\n",
       "        0.22 ,  0.23 ,  0.25 ,  0.28 ,  0.27 ,  0.25 ,  0.255,  0.245,\n",
       "        0.235,  0.235,  0.25 ,  0.23 ,  0.245,  0.23 ,  0.22 ,  0.215,\n",
       "        0.18 ,  0.12 ,  0.075,  0.065,  0.06 ,  0.055,  0.025, -0.005,\n",
       "       -0.04 , -0.085, -0.135, -0.145, -0.14 , -0.12 , -0.12 , -0.16 ,\n",
       "       -0.195, -0.2  , -0.215, -0.2  , -0.2  , -0.215, -0.255, -0.27 ,\n",
       "       -0.225, -0.225, -0.24 , -0.25 , -0.23 , -0.19 , -0.18 , -0.2  ,\n",
       "       -0.21 , -0.215, -0.21 , -0.21 , -0.205, -0.225, -0.23 , -0.24 ,\n",
       "       -0.245, -0.23 , -0.23 , -0.21 , -0.2  , -0.185, -0.175, -0.175,\n",
       "       -0.19 , -0.19 , -0.19 , -0.2  , -0.175, -0.13 , -0.09 , -0.095,\n",
       "       -0.13 , -0.17 , -0.16 , -0.135, -0.1  , -0.09 , -0.115, -0.115,\n",
       "       -0.08 , -0.04 , -0.065, -0.105, -0.12 , -0.12 , -0.11 , -0.105,\n",
       "       -0.11 , -0.15 , -0.155, -0.16 ])"
      ]
     },
     "execution_count": 16,
     "metadata": {},
     "output_type": "execute_result"
    }
   ],
   "source": [
    "x"
   ]
  },
  {
   "cell_type": "code",
   "execution_count": 32,
   "metadata": {},
   "outputs": [],
   "source": [
    "x = electrocardiogram()[200:300]"
   ]
  },
  {
   "cell_type": "code",
   "execution_count": 35,
   "metadata": {},
   "outputs": [
    {
     "data": {
      "text/plain": [
       "array([ 0.125,  0.16 ,  0.165,  0.17 ,  0.185,  0.22 ,  0.225,  0.235,\n",
       "        0.22 ,  0.23 ,  0.25 ,  0.28 ,  0.27 ,  0.25 ,  0.255,  0.245,\n",
       "        0.235,  0.235,  0.25 ,  0.23 ,  0.245,  0.23 ,  0.22 ,  0.215,\n",
       "        0.18 ,  0.12 ,  0.075,  0.065,  0.06 ,  0.055,  0.025, -0.005,\n",
       "       -0.04 , -0.085, -0.135, -0.145, -0.14 , -0.12 , -0.12 , -0.16 ,\n",
       "       -0.195, -0.2  , -0.215, -0.2  , -0.2  , -0.215, -0.255, -0.27 ,\n",
       "       -0.225, -0.225, -0.24 , -0.25 , -0.23 , -0.19 , -0.18 , -0.2  ,\n",
       "       -0.21 , -0.215, -0.21 , -0.21 , -0.205, -0.225, -0.23 , -0.24 ,\n",
       "       -0.245, -0.23 , -0.23 , -0.21 , -0.2  , -0.185, -0.175, -0.175,\n",
       "       -0.19 , -0.19 , -0.19 , -0.2  , -0.175, -0.13 , -0.09 , -0.095,\n",
       "       -0.13 , -0.17 , -0.16 , -0.135, -0.1  , -0.09 , -0.115, -0.115,\n",
       "       -0.08 , -0.04 , -0.065, -0.105, -0.12 , -0.12 , -0.11 , -0.105,\n",
       "       -0.11 , -0.15 , -0.155, -0.16 ])"
      ]
     },
     "execution_count": 35,
     "metadata": {},
     "output_type": "execute_result"
    }
   ],
   "source": [
    "x"
   ]
  },
  {
   "cell_type": "code",
   "execution_count": 37,
   "metadata": {},
   "outputs": [
    {
     "data": {
      "text/plain": [
       "array([1, 2, 3, 4, 5, 6])"
      ]
     },
     "execution_count": 37,
     "metadata": {},
     "output_type": "execute_result"
    }
   ],
   "source": [
    "x"
   ]
  },
  {
   "cell_type": "code",
   "execution_count": 54,
   "metadata": {},
   "outputs": [
    {
     "data": {
      "image/png": "[encoded data removed]",
      "text/plain": [
       "<Figure size 432x288 with 1 Axes>"
      ]
     },
     "metadata": {
      "needs_background": "light"
     },
     "output_type": "display_data"
    }
   ],
   "source": [
    "import matplotlib.pyplot as plt \n",
    "  \n",
    "# x axis values \n",
    "#x = [1,2,3,4,5,6] \n",
    "# corresponding y axis values \n",
    "#y = [2,4,1,5,2,6] \n",
    "  \n",
    "# plotting the points  \n",
    "plt.plot(x, y, color='green', linewidth = 3,\n",
    "        marker='o', markerfacecolor='blue', markersize=12) \n",
    "  \n",
    "# setting x and y axis range \n",
    "#plt.ylim(1,8) \n",
    "#plt.xlim(1,8) \n",
    "  \n",
    "# naming the x axis \n",
    "plt.xlabel('DateTime') \n",
    "# naming the y axis \n",
    "plt.ylabel('DF AVG RANK') \n",
    "  \n",
    "# giving a title to my graph \n",
    "plt.title('Finding Crest and Trough') \n",
    "  \n",
    "# function to show the plot \n",
    "plt.show() "
   ]
  },
  {
   "cell_type": "code",
   "execution_count": 3,
   "metadata": {},
   "outputs": [],
   "source": [
    "df=pd.read_excel(\"AUD_CAD.xlsx\")"
   ]
  },
  {
   "cell_type": "code",
   "execution_count": 4,
   "metadata": {},
   "outputs": [],
   "source": [
    "x=df[\"Date\"].values"
   ]
  },
  {
   "cell_type": "code",
   "execution_count": 160,
   "metadata": {},
   "outputs": [
    {
     "data": {
      "text/plain": [
       "456"
      ]
     },
     "execution_count": 160,
     "metadata": {},
     "output_type": "execute_result"
    }
   ],
   "source": [
    "len(x)"
   ]
  },
  {
   "cell_type": "code",
   "execution_count": 161,
   "metadata": {},
   "outputs": [],
   "source": [
    "x=[\"date{i}\".format(i=i) for i in range(456)]"
   ]
  },
  {
   "cell_type": "code",
   "execution_count": 162,
   "metadata": {},
   "outputs": [
    {
     "data": {
      "text/plain": [
       "['date0',\n",
       " 'date1',\n",
       " 'date2',\n",
       " 'date3',\n",
       " 'date4',\n",
       " 'date5',\n",
       " 'date6',\n",
       " 'date7',\n",
       " 'date8',\n",
       " 'date9',\n",
       " 'date10',\n",
       " 'date11',\n",
       " 'date12',\n",
       " 'date13',\n",
       " 'date14',\n",
       " 'date15',\n",
       " 'date16',\n",
       " 'date17',\n",
       " 'date18',\n",
       " 'date19',\n",
       " 'date20',\n",
       " 'date21',\n",
       " 'date22',\n",
       " 'date23',\n",
       " 'date24',\n",
       " 'date25',\n",
       " 'date26',\n",
       " 'date27',\n",
       " 'date28',\n",
       " 'date29',\n",
       " 'date30',\n",
       " 'date31',\n",
       " 'date32',\n",
       " 'date33',\n",
       " 'date34',\n",
       " 'date35',\n",
       " 'date36',\n",
       " 'date37',\n",
       " 'date38',\n",
       " 'date39',\n",
       " 'date40',\n",
       " 'date41',\n",
       " 'date42',\n",
       " 'date43',\n",
       " 'date44',\n",
       " 'date45',\n",
       " 'date46',\n",
       " 'date47',\n",
       " 'date48',\n",
       " 'date49',\n",
       " 'date50',\n",
       " 'date51',\n",
       " 'date52',\n",
       " 'date53',\n",
       " 'date54',\n",
       " 'date55',\n",
       " 'date56',\n",
       " 'date57',\n",
       " 'date58',\n",
       " 'date59',\n",
       " 'date60',\n",
       " 'date61',\n",
       " 'date62',\n",
       " 'date63',\n",
       " 'date64',\n",
       " 'date65',\n",
       " 'date66',\n",
       " 'date67',\n",
       " 'date68',\n",
       " 'date69',\n",
       " 'date70',\n",
       " 'date71',\n",
       " 'date72',\n",
       " 'date73',\n",
       " 'date74',\n",
       " 'date75',\n",
       " 'date76',\n",
       " 'date77',\n",
       " 'date78',\n",
       " 'date79',\n",
       " 'date80',\n",
       " 'date81',\n",
       " 'date82',\n",
       " 'date83',\n",
       " 'date84',\n",
       " 'date85',\n",
       " 'date86',\n",
       " 'date87',\n",
       " 'date88',\n",
       " 'date89',\n",
       " 'date90',\n",
       " 'date91',\n",
       " 'date92',\n",
       " 'date93',\n",
       " 'date94',\n",
       " 'date95',\n",
       " 'date96',\n",
       " 'date97',\n",
       " 'date98',\n",
       " 'date99',\n",
       " 'date100',\n",
       " 'date101',\n",
       " 'date102',\n",
       " 'date103',\n",
       " 'date104',\n",
       " 'date105',\n",
       " 'date106',\n",
       " 'date107',\n",
       " 'date108',\n",
       " 'date109',\n",
       " 'date110',\n",
       " 'date111',\n",
       " 'date112',\n",
       " 'date113',\n",
       " 'date114',\n",
       " 'date115',\n",
       " 'date116',\n",
       " 'date117',\n",
       " 'date118',\n",
       " 'date119',\n",
       " 'date120',\n",
       " 'date121',\n",
       " 'date122',\n",
       " 'date123',\n",
       " 'date124',\n",
       " 'date125',\n",
       " 'date126',\n",
       " 'date127',\n",
       " 'date128',\n",
       " 'date129',\n",
       " 'date130',\n",
       " 'date131',\n",
       " 'date132',\n",
       " 'date133',\n",
       " 'date134',\n",
       " 'date135',\n",
       " 'date136',\n",
       " 'date137',\n",
       " 'date138',\n",
       " 'date139',\n",
       " 'date140',\n",
       " 'date141',\n",
       " 'date142',\n",
       " 'date143',\n",
       " 'date144',\n",
       " 'date145',\n",
       " 'date146',\n",
       " 'date147',\n",
       " 'date148',\n",
       " 'date149',\n",
       " 'date150',\n",
       " 'date151',\n",
       " 'date152',\n",
       " 'date153',\n",
       " 'date154',\n",
       " 'date155',\n",
       " 'date156',\n",
       " 'date157',\n",
       " 'date158',\n",
       " 'date159',\n",
       " 'date160',\n",
       " 'date161',\n",
       " 'date162',\n",
       " 'date163',\n",
       " 'date164',\n",
       " 'date165',\n",
       " 'date166',\n",
       " 'date167',\n",
       " 'date168',\n",
       " 'date169',\n",
       " 'date170',\n",
       " 'date171',\n",
       " 'date172',\n",
       " 'date173',\n",
       " 'date174',\n",
       " 'date175',\n",
       " 'date176',\n",
       " 'date177',\n",
       " 'date178',\n",
       " 'date179',\n",
       " 'date180',\n",
       " 'date181',\n",
       " 'date182',\n",
       " 'date183',\n",
       " 'date184',\n",
       " 'date185',\n",
       " 'date186',\n",
       " 'date187',\n",
       " 'date188',\n",
       " 'date189',\n",
       " 'date190',\n",
       " 'date191',\n",
       " 'date192',\n",
       " 'date193',\n",
       " 'date194',\n",
       " 'date195',\n",
       " 'date196',\n",
       " 'date197',\n",
       " 'date198',\n",
       " 'date199',\n",
       " 'date200',\n",
       " 'date201',\n",
       " 'date202',\n",
       " 'date203',\n",
       " 'date204',\n",
       " 'date205',\n",
       " 'date206',\n",
       " 'date207',\n",
       " 'date208',\n",
       " 'date209',\n",
       " 'date210',\n",
       " 'date211',\n",
       " 'date212',\n",
       " 'date213',\n",
       " 'date214',\n",
       " 'date215',\n",
       " 'date216',\n",
       " 'date217',\n",
       " 'date218',\n",
       " 'date219',\n",
       " 'date220',\n",
       " 'date221',\n",
       " 'date222',\n",
       " 'date223',\n",
       " 'date224',\n",
       " 'date225',\n",
       " 'date226',\n",
       " 'date227',\n",
       " 'date228',\n",
       " 'date229',\n",
       " 'date230',\n",
       " 'date231',\n",
       " 'date232',\n",
       " 'date233',\n",
       " 'date234',\n",
       " 'date235',\n",
       " 'date236',\n",
       " 'date237',\n",
       " 'date238',\n",
       " 'date239',\n",
       " 'date240',\n",
       " 'date241',\n",
       " 'date242',\n",
       " 'date243',\n",
       " 'date244',\n",
       " 'date245',\n",
       " 'date246',\n",
       " 'date247',\n",
       " 'date248',\n",
       " 'date249',\n",
       " 'date250',\n",
       " 'date251',\n",
       " 'date252',\n",
       " 'date253',\n",
       " 'date254',\n",
       " 'date255',\n",
       " 'date256',\n",
       " 'date257',\n",
       " 'date258',\n",
       " 'date259',\n",
       " 'date260',\n",
       " 'date261',\n",
       " 'date262',\n",
       " 'date263',\n",
       " 'date264',\n",
       " 'date265',\n",
       " 'date266',\n",
       " 'date267',\n",
       " 'date268',\n",
       " 'date269',\n",
       " 'date270',\n",
       " 'date271',\n",
       " 'date272',\n",
       " 'date273',\n",
       " 'date274',\n",
       " 'date275',\n",
       " 'date276',\n",
       " 'date277',\n",
       " 'date278',\n",
       " 'date279',\n",
       " 'date280',\n",
       " 'date281',\n",
       " 'date282',\n",
       " 'date283',\n",
       " 'date284',\n",
       " 'date285',\n",
       " 'date286',\n",
       " 'date287',\n",
       " 'date288',\n",
       " 'date289',\n",
       " 'date290',\n",
       " 'date291',\n",
       " 'date292',\n",
       " 'date293',\n",
       " 'date294',\n",
       " 'date295',\n",
       " 'date296',\n",
       " 'date297',\n",
       " 'date298',\n",
       " 'date299',\n",
       " 'date300',\n",
       " 'date301',\n",
       " 'date302',\n",
       " 'date303',\n",
       " 'date304',\n",
       " 'date305',\n",
       " 'date306',\n",
       " 'date307',\n",
       " 'date308',\n",
       " 'date309',\n",
       " 'date310',\n",
       " 'date311',\n",
       " 'date312',\n",
       " 'date313',\n",
       " 'date314',\n",
       " 'date315',\n",
       " 'date316',\n",
       " 'date317',\n",
       " 'date318',\n",
       " 'date319',\n",
       " 'date320',\n",
       " 'date321',\n",
       " 'date322',\n",
       " 'date323',\n",
       " 'date324',\n",
       " 'date325',\n",
       " 'date326',\n",
       " 'date327',\n",
       " 'date328',\n",
       " 'date329',\n",
       " 'date330',\n",
       " 'date331',\n",
       " 'date332',\n",
       " 'date333',\n",
       " 'date334',\n",
       " 'date335',\n",
       " 'date336',\n",
       " 'date337',\n",
       " 'date338',\n",
       " 'date339',\n",
       " 'date340',\n",
       " 'date341',\n",
       " 'date342',\n",
       " 'date343',\n",
       " 'date344',\n",
       " 'date345',\n",
       " 'date346',\n",
       " 'date347',\n",
       " 'date348',\n",
       " 'date349',\n",
       " 'date350',\n",
       " 'date351',\n",
       " 'date352',\n",
       " 'date353',\n",
       " 'date354',\n",
       " 'date355',\n",
       " 'date356',\n",
       " 'date357',\n",
       " 'date358',\n",
       " 'date359',\n",
       " 'date360',\n",
       " 'date361',\n",
       " 'date362',\n",
       " 'date363',\n",
       " 'date364',\n",
       " 'date365',\n",
       " 'date366',\n",
       " 'date367',\n",
       " 'date368',\n",
       " 'date369',\n",
       " 'date370',\n",
       " 'date371',\n",
       " 'date372',\n",
       " 'date373',\n",
       " 'date374',\n",
       " 'date375',\n",
       " 'date376',\n",
       " 'date377',\n",
       " 'date378',\n",
       " 'date379',\n",
       " 'date380',\n",
       " 'date381',\n",
       " 'date382',\n",
       " 'date383',\n",
       " 'date384',\n",
       " 'date385',\n",
       " 'date386',\n",
       " 'date387',\n",
       " 'date388',\n",
       " 'date389',\n",
       " 'date390',\n",
       " 'date391',\n",
       " 'date392',\n",
       " 'date393',\n",
       " 'date394',\n",
       " 'date395',\n",
       " 'date396',\n",
       " 'date397',\n",
       " 'date398',\n",
       " 'date399',\n",
       " 'date400',\n",
       " 'date401',\n",
       " 'date402',\n",
       " 'date403',\n",
       " 'date404',\n",
       " 'date405',\n",
       " 'date406',\n",
       " 'date407',\n",
       " 'date408',\n",
       " 'date409',\n",
       " 'date410',\n",
       " 'date411',\n",
       " 'date412',\n",
       " 'date413',\n",
       " 'date414',\n",
       " 'date415',\n",
       " 'date416',\n",
       " 'date417',\n",
       " 'date418',\n",
       " 'date419',\n",
       " 'date420',\n",
       " 'date421',\n",
       " 'date422',\n",
       " 'date423',\n",
       " 'date424',\n",
       " 'date425',\n",
       " 'date426',\n",
       " 'date427',\n",
       " 'date428',\n",
       " 'date429',\n",
       " 'date430',\n",
       " 'date431',\n",
       " 'date432',\n",
       " 'date433',\n",
       " 'date434',\n",
       " 'date435',\n",
       " 'date436',\n",
       " 'date437',\n",
       " 'date438',\n",
       " 'date439',\n",
       " 'date440',\n",
       " 'date441',\n",
       " 'date442',\n",
       " 'date443',\n",
       " 'date444',\n",
       " 'date445',\n",
       " 'date446',\n",
       " 'date447',\n",
       " 'date448',\n",
       " 'date449',\n",
       " 'date450',\n",
       " 'date451',\n",
       " 'date452',\n",
       " 'date453',\n",
       " 'date454',\n",
       " 'date455']"
      ]
     },
     "execution_count": 162,
     "metadata": {},
     "output_type": "execute_result"
    }
   ],
   "source": [
    "x"
   ]
  },
  {
   "cell_type": "code",
   "execution_count": 163,
   "metadata": {},
   "outputs": [],
   "source": [
    "y=df[\"DF Avg Rank\"].values"
   ]
  },
  {
   "cell_type": "code",
   "execution_count": 66,
   "metadata": {},
   "outputs": [],
   "source": [
    "x=x[426:]\n",
    "y=y[426:]"
   ]
  },
  {
   "cell_type": "code",
   "execution_count": 73,
   "metadata": {},
   "outputs": [
    {
     "data": {
      "text/plain": [
       "456"
      ]
     },
     "execution_count": 73,
     "metadata": {},
     "output_type": "execute_result"
    }
   ],
   "source": [
    "len(x)"
   ]
  },
  {
   "cell_type": "code",
   "execution_count": 26,
   "metadata": {},
   "outputs": [],
   "source": [
    "x=y"
   ]
  },
  {
   "cell_type": "code",
   "execution_count": 31,
   "metadata": {},
   "outputs": [],
   "source": [
    "df=pd.read_excel(\"AUD_CAD.xlsx\")"
   ]
  },
  {
   "cell_type": "code",
   "execution_count": 99,
   "metadata": {},
   "outputs": [],
   "source": [
    "df['Date'] = pd.to_datetime(df['Date']) #convert Date column into DateTimeIndex"
   ]
  },
  {
   "cell_type": "code",
   "execution_count": 35,
   "metadata": {},
   "outputs": [],
   "source": [
    "df=df.set_index('Date')"
   ]
  },
  {
   "cell_type": "code",
   "execution_count": 41,
   "metadata": {
    "scrolled": true
   },
   "outputs": [
    {
     "data": {
      "image/png": "[encoded data removed]",
      "text/plain": [
       "<Figure size 432x288 with 1 Axes>"
      ]
     },
     "metadata": {
      "needs_background": "light"
     },
     "output_type": "display_data"
    }
   ],
   "source": [
    "from scipy.signal import find_peaks\n",
    "#x = electrocardiogram()[200:300]\n",
    "peaks, _= find_peaks(y)\n",
    "troughs, _= find_peaks(-y)\n",
    "  \n",
    "# giving a title to my graph \n",
    "#figure(figsize=(20, 8))\n",
    "plt.title('AUD_CAD Finding Crest and Trough')\n",
    "plt.ylabel('DF AVG RANK')\n",
    "df['DF Avg Rank'].plot()\n",
    "plt.plot(peaks,y[peaks], '^')\n",
    "plt.plot(troughs,y[troughs], 'v')\n",
    "plt.show()"
   ]
  },
  {
   "cell_type": "code",
   "execution_count": 52,
   "metadata": {},
   "outputs": [],
   "source": [
    "import numpy as np\n",
    "import pandas as pd\n",
    "import matplotlib.pyplot as plt\n",
    "\n",
    "x = np.array(df[\"Date\"].tolist())\n",
    "y= np.array(df[\"DF Avg Rank\"].tolist())\n",
    "\n"
   ]
  },
  {
   "cell_type": "code",
   "execution_count": 53,
   "metadata": {},
   "outputs": [
    {
     "data": {
      "text/plain": [
       "numpy.str_"
      ]
     },
     "execution_count": 53,
     "metadata": {},
     "output_type": "execute_result"
    }
   ],
   "source": [
    "type(x[0])"
   ]
  },
  {
   "cell_type": "code",
   "execution_count": 46,
   "metadata": {},
   "outputs": [],
   "source": [
    "i=x[0].strftime('%Y-%m-%d %H:%M:%S')"
   ]
  },
  {
   "cell_type": "code",
   "execution_count": 47,
   "metadata": {},
   "outputs": [
    {
     "data": {
      "text/plain": [
       "'2020-07-24 13:24:00'"
      ]
     },
     "execution_count": 47,
     "metadata": {},
     "output_type": "execute_result"
    }
   ],
   "source": [
    "i"
   ]
  },
  {
   "cell_type": "code",
   "execution_count": 48,
   "metadata": {},
   "outputs": [
    {
     "data": {
      "text/plain": [
       "str"
      ]
     },
     "execution_count": 48,
     "metadata": {},
     "output_type": "execute_result"
    }
   ],
   "source": [
    "type(i)"
   ]
  },
  {
   "cell_type": "code",
   "execution_count": 49,
   "metadata": {},
   "outputs": [],
   "source": [
    "x=[i.strftime('%Y-%m-%d %H:%M:%S') for i in x]"
   ]
  },
  {
   "cell_type": "code",
   "execution_count": 51,
   "metadata": {},
   "outputs": [],
   "source": [
    "df[\"Date\"]=x"
   ]
  },
  {
   "cell_type": "code",
   "execution_count": null,
   "metadata": {},
   "outputs": [],
   "source": []
  },
  {
   "cell_type": "code",
   "execution_count": 165,
   "metadata": {},
   "outputs": [],
   "source": [
    "dic={\"Date\":x,\"DF\":y}"
   ]
  },
  {
   "cell_type": "code",
   "execution_count": 55,
   "metadata": {},
   "outputs": [],
   "source": [
    "#df = pd.DataFrame.from_dict(dic)\n",
    "\n",
    "dates = np.array(df[\"Date\"].tolist())\n",
    "returns = np.array(df[\"DF Avg Rank\"].tolist())"
   ]
  },
  {
   "cell_type": "code",
   "execution_count": 57,
   "metadata": {},
   "outputs": [],
   "source": [
    "dates=dates[0:20]\n",
    "returns=returns[0:20]"
   ]
  },
  {
   "cell_type": "code",
   "execution_count": 59,
   "metadata": {},
   "outputs": [
    {
     "name": "stdout",
     "output_type": "stream",
     "text": [
      "2020-07-24 13:25:00\n",
      "2020-07-24 13:27:00\n",
      "2020-07-24 13:31:00\n",
      "2020-07-24 13:33:00\n",
      "2020-07-24 13:37:00\n",
      "2020-07-24 13:40:00\n",
      "2020-07-24 13:42:00\n"
     ]
    },
    {
     "data": {
      "image/png": "[encoded data removed]",
      "text/plain": [
       "<Figure size 5040x576 with 1 Axes>"
      ]
     },
     "metadata": {
      "needs_background": "light"
     },
     "output_type": "display_data"
    }
   ],
   "source": [
    "\n",
    "# Calculate the minimas and the maximas\n",
    "minimas = (np.diff(np.sign(np.diff(returns))) > 0).nonzero()[0] + 1 \n",
    "maximas = (np.diff(np.sign(np.diff(returns))) < 0).nonzero()[0] + 1\n",
    "figure(figsize=(70, 8))\n",
    "# Plot the entire data first\n",
    "plt.plot(dates, returns)\n",
    "# Then mark the maximas and the minimas\n",
    "for minima in minimas:\n",
    "    plt.plot(df.iloc[minima][\"Date\"], df.iloc[minima][\"DF Avg Rank\"], marker=\"v\")\n",
    "    print(df.iloc[minima][\"Date\"])\n",
    "for maxima in maximas:\n",
    "    plt.plot(df.iloc[maxima][\"Date\"], df.iloc[maxima][\"DF Avg Rank\"], marker=\"^\")\n",
    "plt.show()"
   ]
  },
  {
   "cell_type": "code",
   "execution_count": 81,
   "metadata": {},
   "outputs": [
    {
     "data": {
      "image/png": "[encoded data removed]",
      "text/plain": [
       "<Figure size 432x288 with 1 Axes>"
      ]
     },
     "metadata": {
      "needs_background": "light"
     },
     "output_type": "display_data"
    }
   ],
   "source": [
    "import numpy as np\n",
    "import pandas as pd\n",
    "import matplotlib.pyplot as plt\n",
    "\n",
    "# Take an example data\n",
    "data = {\"Date\":[\"date{i}\".format(i=i) for i in range(10)],\"Return\":[1,2,3,2,1,2,4,7,1,3]}\n",
    "df = pd.DataFrame.from_dict(data)\n",
    "\n",
    "dates = np.array(df[\"Date\"].tolist())\n",
    "returns = np.array(df[\"Return\"].tolist())\n",
    "\n",
    "# Calculate the minimas and the maximas\n",
    "minimas = (np.diff(np.sign(np.diff(returns))) > 0).nonzero()[0] + 1 \n",
    "maximas = (np.diff(np.sign(np.diff(returns))) < 0).nonzero()[0] + 1\n",
    "\n",
    "# Plot the entire data first\n",
    "plt.plot(dates, returns)\n",
    "# Then mark the maximas and the minimas\n",
    "for minima in minimas:\n",
    "    plt.plot(df.iloc[minima][\"Date\"], df.iloc[minima][\"Return\"], marker=\"o\")\n",
    "for maxima in maximas:\n",
    "    plt.plot(df.iloc[maxima][\"Date\"], df.iloc[maxima][\"Return\"], marker=\"o\")\n",
    "plt.show()"
   ]
  },
  {
   "cell_type": "code",
   "execution_count": 47,
   "metadata": {},
   "outputs": [
    {
     "data": {
      "text/html": [
       "<div>\n",
       "<style scoped>\n",
       "    .dataframe tbody tr th:only-of-type {\n",
       "        vertical-align: middle;\n",
       "    }\n",
       "\n",
       "    .dataframe tbody tr th {\n",
       "        vertical-align: top;\n",
       "    }\n",
       "\n",
       "    .dataframe thead th {\n",
       "        text-align: right;\n",
       "    }\n",
       "</style>\n",
       "<table border=\"1\" class=\"dataframe\">\n",
       "  <thead>\n",
       "    <tr style=\"text-align: right;\">\n",
       "      <th></th>\n",
       "      <th>Date</th>\n",
       "      <th>Topic</th>\n",
       "      <th>Return</th>\n",
       "    </tr>\n",
       "  </thead>\n",
       "  <tbody>\n",
       "    <tr>\n",
       "      <th>0</th>\n",
       "      <td>date0</td>\n",
       "      <td>topic0</td>\n",
       "      <td>1</td>\n",
       "    </tr>\n",
       "    <tr>\n",
       "      <th>1</th>\n",
       "      <td>date1</td>\n",
       "      <td>topic1</td>\n",
       "      <td>2</td>\n",
       "    </tr>\n",
       "    <tr>\n",
       "      <th>2</th>\n",
       "      <td>date2</td>\n",
       "      <td>topic2</td>\n",
       "      <td>3</td>\n",
       "    </tr>\n",
       "    <tr>\n",
       "      <th>3</th>\n",
       "      <td>date3</td>\n",
       "      <td>topic3</td>\n",
       "      <td>2</td>\n",
       "    </tr>\n",
       "    <tr>\n",
       "      <th>4</th>\n",
       "      <td>date4</td>\n",
       "      <td>topic4</td>\n",
       "      <td>1</td>\n",
       "    </tr>\n",
       "    <tr>\n",
       "      <th>5</th>\n",
       "      <td>date5</td>\n",
       "      <td>topic5</td>\n",
       "      <td>2</td>\n",
       "    </tr>\n",
       "    <tr>\n",
       "      <th>6</th>\n",
       "      <td>date6</td>\n",
       "      <td>topic6</td>\n",
       "      <td>4</td>\n",
       "    </tr>\n",
       "    <tr>\n",
       "      <th>7</th>\n",
       "      <td>date7</td>\n",
       "      <td>topic7</td>\n",
       "      <td>7</td>\n",
       "    </tr>\n",
       "    <tr>\n",
       "      <th>8</th>\n",
       "      <td>date8</td>\n",
       "      <td>topic8</td>\n",
       "      <td>1</td>\n",
       "    </tr>\n",
       "    <tr>\n",
       "      <th>9</th>\n",
       "      <td>date9</td>\n",
       "      <td>topic9</td>\n",
       "      <td>3</td>\n",
       "    </tr>\n",
       "  </tbody>\n",
       "</table>\n",
       "</div>"
      ],
      "text/plain": [
       "    Date   Topic  Return\n",
       "0  date0  topic0       1\n",
       "1  date1  topic1       2\n",
       "2  date2  topic2       3\n",
       "3  date3  topic3       2\n",
       "4  date4  topic4       1\n",
       "5  date5  topic5       2\n",
       "6  date6  topic6       4\n",
       "7  date7  topic7       7\n",
       "8  date8  topic8       1\n",
       "9  date9  topic9       3"
      ]
     },
     "execution_count": 47,
     "metadata": {},
     "output_type": "execute_result"
    }
   ],
   "source": [
    "df"
   ]
  },
  {
   "cell_type": "code",
   "execution_count": 48,
   "metadata": {},
   "outputs": [
    {
     "data": {
      "text/plain": [
       "array(['date0', 'date1', 'date2', 'date3', 'date4', 'date5', 'date6',\n",
       "       'date7', 'date8', 'date9'], dtype='<U5')"
      ]
     },
     "execution_count": 48,
     "metadata": {},
     "output_type": "execute_result"
    }
   ],
   "source": [
    "dates"
   ]
  },
  {
   "cell_type": "code",
   "execution_count": null,
   "metadata": {},
   "outputs": [],
   "source": []
  }
 ],
 "metadata": {
  "kernelspec": {
   "display_name": "Python 3.7.6 64-bit ('base': conda)",
   "language": "python",
   "name": "python37664bitbaseconda7aa1390845224dada27b00b87a8a0417"
  },
  "language_info": {
   "codemirror_mode": {
    "name": "ipython",
    "version": 3
   },
   "file_extension": ".py",
   "mimetype": "text/x-python",
   "name": "python",
   "nbconvert_exporter": "python",
   "pygments_lexer": "ipython3",
   "version": "3.7.6"
  }
 },
 "nbformat": 4,
 "nbformat_minor": 4
}
